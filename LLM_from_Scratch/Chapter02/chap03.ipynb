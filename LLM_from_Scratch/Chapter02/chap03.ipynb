{
 "cells": [
  {
   "cell_type": "markdown",
   "metadata": {},
   "source": [
    "##Coding the attention "
   ]
  },
  {
   "cell_type": "code",
   "execution_count": 2,
   "metadata": {},
   "outputs": [],
   "source": [
    "import torch"
   ]
  },
  {
   "cell_type": "code",
   "execution_count": 3,
   "metadata": {},
   "outputs": [],
   "source": [
    "inputs = torch.tensor(\n",
    "        [[0.43, 0.15, 0.89], # Your (x^1)\n",
    "        [0.55, 0.87, 0.66], # journey (x^2)\n",
    "        [0.57, 0.85, 0.64], # starts (x^3)\n",
    "        [0.22, 0.58, 0.33], # with (x^4)\n",
    "        [0.77, 0.25, 0.10], # one (x^5)\n",
    "        [0.05, 0.80, 0.55]] # step (x^6)\n",
    ")"
   ]
  },
  {
   "cell_type": "code",
   "execution_count": 4,
   "metadata": {},
   "outputs": [
    {
     "name": "stdout",
     "output_type": "stream",
     "text": [
      "tensor([[0.4300, 0.1500, 0.8900],\n",
      "        [0.5500, 0.8700, 0.6600],\n",
      "        [0.5700, 0.8500, 0.6400],\n",
      "        [0.2200, 0.5800, 0.3300],\n",
      "        [0.7700, 0.2500, 0.1000],\n",
      "        [0.0500, 0.8000, 0.5500]])\n",
      "tensor([0.5500, 0.8700, 0.6600])\n"
     ]
    }
   ],
   "source": [
    "print(inputs)\n",
    "query = inputs[1]\n",
    "\n",
    "print(query)\n"
   ]
  },
  {
   "cell_type": "code",
   "execution_count": 5,
   "metadata": {},
   "outputs": [
    {
     "name": "stdout",
     "output_type": "stream",
     "text": [
      "tensor([0.9544, 1.4950, 1.4754, 0.8434, 0.7070, 1.0865])\n"
     ]
    }
   ],
   "source": [
    "attn_scores_2 = torch.empty(inputs.shape[0])\n",
    "for i, x_i in enumerate(inputs):\n",
    "    attn_scores_2[i] = torch.dot(x_i, query)\n",
    "print(attn_scores_2)"
   ]
  },
  {
   "cell_type": "code",
   "execution_count": 6,
   "metadata": {},
   "outputs": [
    {
     "name": "stdout",
     "output_type": "stream",
     "text": [
      "Attention weights: tensor([0.1455, 0.2278, 0.2249, 0.1285, 0.1077, 0.1656])\n",
      "Sum: tensor(1.0000)\n"
     ]
    }
   ],
   "source": [
    "attn_weights_2_tmp = attn_scores_2/attn_scores_2.sum()\n",
    "print(\"Attention weights:\", attn_weights_2_tmp)\n",
    "print(\"Sum:\", attn_weights_2_tmp.sum())"
   ]
  },
  {
   "cell_type": "code",
   "execution_count": 7,
   "metadata": {},
   "outputs": [
    {
     "name": "stdout",
     "output_type": "stream",
     "text": [
      "Attention weights: tensor([0.1385, 0.2379, 0.2333, 0.1240, 0.1082, 0.1581])\n",
      "Sum: tensor(1.)\n"
     ]
    }
   ],
   "source": [
    "def softmax_naive(x):\n",
    "    return torch.exp(x)/torch.exp(x).sum(dim=0)\n",
    "\n",
    "attn_weights_2_naive = softmax_naive(attn_scores_2)\n",
    "print(\"Attention weights:\", attn_weights_2_naive)\n",
    "print(\"Sum:\", attn_weights_2_naive.sum())"
   ]
  },
  {
   "cell_type": "code",
   "execution_count": 8,
   "metadata": {},
   "outputs": [
    {
     "name": "stdout",
     "output_type": "stream",
     "text": [
      "Attention weights: tensor([0.1385, 0.2379, 0.2333, 0.1240, 0.1082, 0.1581])\n",
      "Sum: tensor(1.)\n"
     ]
    }
   ],
   "source": [
    "#Pythorch softmax\n",
    "attn_weights_2 = torch.softmax(attn_scores_2, dim=0)\n",
    "print(\"Attention weights:\", attn_weights_2)\n",
    "print(\"Sum:\", attn_weights_2.sum())"
   ]
  },
  {
   "cell_type": "code",
   "execution_count": 9,
   "metadata": {},
   "outputs": [
    {
     "name": "stdout",
     "output_type": "stream",
     "text": [
      "tensor([0.4300, 0.1500, 0.8900])\n"
     ]
    }
   ],
   "source": [
    "print(inputs[0])"
   ]
  },
  {
   "cell_type": "code",
   "execution_count": 10,
   "metadata": {},
   "outputs": [
    {
     "name": "stdout",
     "output_type": "stream",
     "text": [
      "0 :  attn_weights_2[i] * x_i =  context_vec_2 tensor(0.1385) tensor([0.4300, 0.1500, 0.8900]) tensor([0.0596, 0.0208, 0.1233])\n",
      "1 :  attn_weights_2[i] * x_i =  context_vec_2 tensor(0.2379) tensor([0.5500, 0.8700, 0.6600]) tensor([0.1904, 0.2277, 0.2803])\n",
      "2 :  attn_weights_2[i] * x_i =  context_vec_2 tensor(0.2333) tensor([0.5700, 0.8500, 0.6400]) tensor([0.3234, 0.4260, 0.4296])\n",
      "3 :  attn_weights_2[i] * x_i =  context_vec_2 tensor(0.1240) tensor([0.2200, 0.5800, 0.3300]) tensor([0.3507, 0.4979, 0.4705])\n",
      "4 :  attn_weights_2[i] * x_i =  context_vec_2 tensor(0.1082) tensor([0.7700, 0.2500, 0.1000]) tensor([0.4340, 0.5250, 0.4813])\n",
      "5 :  attn_weights_2[i] * x_i =  context_vec_2 tensor(0.1581) tensor([0.0500, 0.8000, 0.5500]) tensor([0.4419, 0.6515, 0.5683])\n",
      "Context Vector for input 2 : tensor([0.4419, 0.6515, 0.5683])\n"
     ]
    }
   ],
   "source": [
    "query = inputs[1] #2nd input token is the query\n",
    "context_vec_2 = torch.zeros(query.shape)\n",
    "for i, x_i in enumerate(inputs):\n",
    "    context_vec_2 += attn_weights_2[i] * x_i\n",
    "    print(i, \":  attn_weights_2[i] * x_i =  context_vec_2\", attn_weights_2[i],  x_i, context_vec_2)\n",
    "\n",
    "#multiplying each input row with corresponding attention weight and summing them up\n",
    "print(\"Context Vector for input 2 :\",context_vec_2)"
   ]
  },
  {
   "cell_type": "markdown",
   "metadata": {},
   "source": [
    "##3.3.2 Computing attention weights for all input tokens\n"
   ]
  },
  {
   "cell_type": "code",
   "execution_count": 12,
   "metadata": {},
   "outputs": [
    {
     "name": "stdout",
     "output_type": "stream",
     "text": [
      "tensor([[0., 0., 0., 0., 0., 0.],\n",
      "        [0., 0., 0., 0., 0., 0.],\n",
      "        [0., 0., 0., 0., 0., 0.],\n",
      "        [0., 0., 0., 0., 0., 0.],\n",
      "        [0., 0., 0., 0., 0., 0.],\n",
      "        [0., 0., 0., 0., 0., 0.]])\n"
     ]
    }
   ],
   "source": [
    "attn_scores = torch.empty(6,6)\n",
    "print(attn_scores)"
   ]
  },
  {
   "cell_type": "code",
   "execution_count": 16,
   "metadata": {},
   "outputs": [
    {
     "name": "stdout",
     "output_type": "stream",
     "text": [
      "tensor([[0.4300, 0.1500, 0.8900],\n",
      "        [0.5500, 0.8700, 0.6600],\n",
      "        [0.5700, 0.8500, 0.6400],\n",
      "        [0.2200, 0.5800, 0.3300],\n",
      "        [0.7700, 0.2500, 0.1000],\n",
      "        [0.0500, 0.8000, 0.5500]])\n"
     ]
    }
   ],
   "source": [
    "print(inputs)"
   ]
  },
  {
   "cell_type": "code",
   "execution_count": 15,
   "metadata": {},
   "outputs": [
    {
     "name": "stdout",
     "output_type": "stream",
     "text": [
      "0 0 tensor([0.4300, 0.1500, 0.8900]) tensor([0.4300, 0.1500, 0.8900]) tensor(0.9995)\n",
      "0 1 tensor([0.4300, 0.1500, 0.8900]) tensor([0.5500, 0.8700, 0.6600]) tensor(0.9544)\n",
      "0 2 tensor([0.4300, 0.1500, 0.8900]) tensor([0.5700, 0.8500, 0.6400]) tensor(0.9422)\n",
      "0 3 tensor([0.4300, 0.1500, 0.8900]) tensor([0.2200, 0.5800, 0.3300]) tensor(0.4753)\n",
      "0 4 tensor([0.4300, 0.1500, 0.8900]) tensor([0.7700, 0.2500, 0.1000]) tensor(0.4576)\n",
      "0 5 tensor([0.4300, 0.1500, 0.8900]) tensor([0.0500, 0.8000, 0.5500]) tensor(0.6310)\n",
      "1 0 tensor([0.5500, 0.8700, 0.6600]) tensor([0.4300, 0.1500, 0.8900]) tensor(0.9544)\n",
      "1 1 tensor([0.5500, 0.8700, 0.6600]) tensor([0.5500, 0.8700, 0.6600]) tensor(1.4950)\n",
      "1 2 tensor([0.5500, 0.8700, 0.6600]) tensor([0.5700, 0.8500, 0.6400]) tensor(1.4754)\n",
      "1 3 tensor([0.5500, 0.8700, 0.6600]) tensor([0.2200, 0.5800, 0.3300]) tensor(0.8434)\n",
      "1 4 tensor([0.5500, 0.8700, 0.6600]) tensor([0.7700, 0.2500, 0.1000]) tensor(0.7070)\n",
      "1 5 tensor([0.5500, 0.8700, 0.6600]) tensor([0.0500, 0.8000, 0.5500]) tensor(1.0865)\n",
      "2 0 tensor([0.5700, 0.8500, 0.6400]) tensor([0.4300, 0.1500, 0.8900]) tensor(0.9422)\n",
      "2 1 tensor([0.5700, 0.8500, 0.6400]) tensor([0.5500, 0.8700, 0.6600]) tensor(1.4754)\n",
      "2 2 tensor([0.5700, 0.8500, 0.6400]) tensor([0.5700, 0.8500, 0.6400]) tensor(1.4570)\n",
      "2 3 tensor([0.5700, 0.8500, 0.6400]) tensor([0.2200, 0.5800, 0.3300]) tensor(0.8296)\n",
      "2 4 tensor([0.5700, 0.8500, 0.6400]) tensor([0.7700, 0.2500, 0.1000]) tensor(0.7154)\n",
      "2 5 tensor([0.5700, 0.8500, 0.6400]) tensor([0.0500, 0.8000, 0.5500]) tensor(1.0605)\n",
      "3 0 tensor([0.2200, 0.5800, 0.3300]) tensor([0.4300, 0.1500, 0.8900]) tensor(0.4753)\n",
      "3 1 tensor([0.2200, 0.5800, 0.3300]) tensor([0.5500, 0.8700, 0.6600]) tensor(0.8434)\n",
      "3 2 tensor([0.2200, 0.5800, 0.3300]) tensor([0.5700, 0.8500, 0.6400]) tensor(0.8296)\n",
      "3 3 tensor([0.2200, 0.5800, 0.3300]) tensor([0.2200, 0.5800, 0.3300]) tensor(0.4937)\n",
      "3 4 tensor([0.2200, 0.5800, 0.3300]) tensor([0.7700, 0.2500, 0.1000]) tensor(0.3474)\n",
      "3 5 tensor([0.2200, 0.5800, 0.3300]) tensor([0.0500, 0.8000, 0.5500]) tensor(0.6565)\n",
      "4 0 tensor([0.7700, 0.2500, 0.1000]) tensor([0.4300, 0.1500, 0.8900]) tensor(0.4576)\n",
      "4 1 tensor([0.7700, 0.2500, 0.1000]) tensor([0.5500, 0.8700, 0.6600]) tensor(0.7070)\n",
      "4 2 tensor([0.7700, 0.2500, 0.1000]) tensor([0.5700, 0.8500, 0.6400]) tensor(0.7154)\n",
      "4 3 tensor([0.7700, 0.2500, 0.1000]) tensor([0.2200, 0.5800, 0.3300]) tensor(0.3474)\n",
      "4 4 tensor([0.7700, 0.2500, 0.1000]) tensor([0.7700, 0.2500, 0.1000]) tensor(0.6654)\n",
      "4 5 tensor([0.7700, 0.2500, 0.1000]) tensor([0.0500, 0.8000, 0.5500]) tensor(0.2935)\n",
      "5 0 tensor([0.0500, 0.8000, 0.5500]) tensor([0.4300, 0.1500, 0.8900]) tensor(0.6310)\n",
      "5 1 tensor([0.0500, 0.8000, 0.5500]) tensor([0.5500, 0.8700, 0.6600]) tensor(1.0865)\n",
      "5 2 tensor([0.0500, 0.8000, 0.5500]) tensor([0.5700, 0.8500, 0.6400]) tensor(1.0605)\n",
      "5 3 tensor([0.0500, 0.8000, 0.5500]) tensor([0.2200, 0.5800, 0.3300]) tensor(0.6565)\n",
      "5 4 tensor([0.0500, 0.8000, 0.5500]) tensor([0.7700, 0.2500, 0.1000]) tensor(0.2935)\n",
      "5 5 tensor([0.0500, 0.8000, 0.5500]) tensor([0.0500, 0.8000, 0.5500]) tensor(0.9450)\n",
      "tensor([[0.9995, 0.9544, 0.9422, 0.4753, 0.4576, 0.6310],\n",
      "        [0.9544, 1.4950, 1.4754, 0.8434, 0.7070, 1.0865],\n",
      "        [0.9422, 1.4754, 1.4570, 0.8296, 0.7154, 1.0605],\n",
      "        [0.4753, 0.8434, 0.8296, 0.4937, 0.3474, 0.6565],\n",
      "        [0.4576, 0.7070, 0.7154, 0.3474, 0.6654, 0.2935],\n",
      "        [0.6310, 1.0865, 1.0605, 0.6565, 0.2935, 0.9450]])\n"
     ]
    }
   ],
   "source": [
    "for i, x_i in enumerate(inputs):\n",
    "    for j, x_j in enumerate(inputs):\n",
    "        attn_scores[i,j] = torch.dot(x_i, x_j)\n",
    "        print(i, j, x_i, x_j, attn_scores[i,j])\n",
    "\n",
    "print(attn_scores)"
   ]
  },
  {
   "cell_type": "code",
   "execution_count": null,
   "metadata": {},
   "outputs": [
    {
     "name": "stdout",
     "output_type": "stream",
     "text": [
      "tensor([[0.9995, 0.9544, 0.9422, 0.4753, 0.4576, 0.6310],\n",
      "        [0.9544, 1.4950, 1.4754, 0.8434, 0.7070, 1.0865],\n",
      "        [0.9422, 1.4754, 1.4570, 0.8296, 0.7154, 1.0605],\n",
      "        [0.4753, 0.8434, 0.8296, 0.4937, 0.3474, 0.6565],\n",
      "        [0.4576, 0.7070, 0.7154, 0.3474, 0.6654, 0.2935],\n",
      "        [0.6310, 1.0865, 1.0605, 0.6565, 0.2935, 0.9450]])\n"
     ]
    }
   ],
   "source": [
    "#for loops are slow, we can use mat mul\n",
    "attn_scores = inputs @ inputs.T #matrix multiplication , T is transpose\n",
    "print(attn_scores)"
   ]
  },
  {
   "cell_type": "code",
   "execution_count": 18,
   "metadata": {},
   "outputs": [
    {
     "name": "stdout",
     "output_type": "stream",
     "text": [
      "tensor([[0.2098, 0.2006, 0.1981, 0.1242, 0.1220, 0.1452],\n",
      "        [0.1385, 0.2379, 0.2333, 0.1240, 0.1082, 0.1581],\n",
      "        [0.1390, 0.2369, 0.2326, 0.1242, 0.1108, 0.1565],\n",
      "        [0.1435, 0.2074, 0.2046, 0.1462, 0.1263, 0.1720],\n",
      "        [0.1526, 0.1958, 0.1975, 0.1367, 0.1879, 0.1295],\n",
      "        [0.1385, 0.2184, 0.2128, 0.1420, 0.0988, 0.1896]])\n"
     ]
    }
   ],
   "source": [
    "attn_weights = torch.softmax(attn_scores, dim=1)\n",
    "print(attn_weights)"
   ]
  },
  {
   "cell_type": "code",
   "execution_count": 20,
   "metadata": {},
   "outputs": [
    {
     "name": "stdout",
     "output_type": "stream",
     "text": [
      "Row 2 sum: 1.0\n",
      "All row sums: tensor([1.0000, 1.0000, 1.0000, 1.0000, 1.0000, 1.0000])\n"
     ]
    }
   ],
   "source": [
    "row_2_sum = sum([0.1385, 0.2379, 0.2333, 0.1240, 0.1082, 0.1581])\n",
    "print(\"Row 2 sum:\", row_2_sum)\n",
    "print(\"All row sums:\", attn_weights.sum(dim=1))"
   ]
  },
  {
   "cell_type": "code",
   "execution_count": 21,
   "metadata": {},
   "outputs": [
    {
     "name": "stdout",
     "output_type": "stream",
     "text": [
      "tensor([[0.4421, 0.5931, 0.5790],\n",
      "        [0.4419, 0.6515, 0.5683],\n",
      "        [0.4431, 0.6496, 0.5671],\n",
      "        [0.4304, 0.6298, 0.5510],\n",
      "        [0.4671, 0.5910, 0.5266],\n",
      "        [0.4177, 0.6503, 0.5645]])\n"
     ]
    }
   ],
   "source": [
    "all_context_vecs = attn_weights @ inputs\n",
    "print(all_context_vecs)"
   ]
  },
  {
   "cell_type": "code",
   "execution_count": 22,
   "metadata": {},
   "outputs": [
    {
     "name": "stdout",
     "output_type": "stream",
     "text": [
      "Previous 2nd context vector: tensor([0.4419, 0.6515, 0.5683])\n"
     ]
    }
   ],
   "source": [
    "print(\"Previous 2nd context vector:\", context_vec_2)\n"
   ]
  },
  {
   "cell_type": "code",
   "execution_count": null,
   "metadata": {},
   "outputs": [],
   "source": []
  }
 ],
 "metadata": {
  "kernelspec": {
   "display_name": "Python 3",
   "language": "python",
   "name": "python3"
  },
  "language_info": {
   "codemirror_mode": {
    "name": "ipython",
    "version": 3
   },
   "file_extension": ".py",
   "mimetype": "text/x-python",
   "name": "python",
   "nbconvert_exporter": "python",
   "pygments_lexer": "ipython3",
   "version": "3.12.0"
  }
 },
 "nbformat": 4,
 "nbformat_minor": 2
}
